{
 "cells": [
  {
   "cell_type": "markdown",
   "id": "36ff7530-e416-4cc6-bdce-361814920393",
   "metadata": {},
   "source": [
    "How to use WordNet?"
   ]
  },
  {
   "cell_type": "markdown",
   "id": "bf652945-b00c-45c8-9e7e-822f3133845c",
   "metadata": {},
   "source": [
    "WordNet Is Available as A Corpus in Nltk. Download the Word Net Corpus and Its Dependencies."
   ]
  },
  {
   "cell_type": "code",
   "execution_count": 1,
   "id": "a371cf1a-5fcf-488c-ad9a-a131a1d78251",
   "metadata": {},
   "outputs": [
    {
     "name": "stderr",
     "output_type": "stream",
     "text": [
      "[nltk_data] Downloading package wordnet to\n",
      "[nltk_data]     C:\\Users\\prems\\AppData\\Roaming\\nltk_data...\n",
      "[nltk_data] Downloading package omw-1.4 to\n",
      "[nltk_data]     C:\\Users\\prems\\AppData\\Roaming\\nltk_data...\n"
     ]
    },
    {
     "data": {
      "text/plain": [
       "True"
      ]
     },
     "execution_count": 1,
     "metadata": {},
     "output_type": "execute_result"
    }
   ],
   "source": [
    "import nltk\n",
    "nltk.download('wordnet')\n",
    "nltk.download('omw-1.4')"
   ]
  },
  {
   "cell_type": "markdown",
   "id": "dd482bdb-2c05-4325-ac9f-61eb29c804f7",
   "metadata": {},
   "source": [
    "Find All the Sysnets of 'book'"
   ]
  },
  {
   "cell_type": "code",
   "execution_count": 2,
   "id": "30122219-777b-448a-9dd6-ce1c8160a2c0",
   "metadata": {},
   "outputs": [
    {
     "data": {
      "text/plain": [
       "[Synset('book.n.01'),\n",
       " Synset('book.n.02'),\n",
       " Synset('record.n.05'),\n",
       " Synset('script.n.01'),\n",
       " Synset('ledger.n.01'),\n",
       " Synset('book.n.06'),\n",
       " Synset('book.n.07'),\n",
       " Synset('koran.n.01'),\n",
       " Synset('bible.n.01'),\n",
       " Synset('book.n.10'),\n",
       " Synset('book.n.11'),\n",
       " Synset('book.v.01'),\n",
       " Synset('reserve.v.04'),\n",
       " Synset('book.v.03'),\n",
       " Synset('book.v.04')]"
      ]
     },
     "execution_count": 2,
     "metadata": {},
     "output_type": "execute_result"
    }
   ],
   "source": [
    "from nltk.corpus import wordnet as wn\n",
    "wn.synsets('book')"
   ]
  },
  {
   "cell_type": "code",
   "execution_count": 5,
   "id": "caab93fd-f461-450a-b6fb-0e4b147ab994",
   "metadata": {},
   "outputs": [
    {
     "data": {
      "text/plain": [
       "[Synset('book.v.01'),\n",
       " Synset('reserve.v.04'),\n",
       " Synset('book.v.03'),\n",
       " Synset('book.v.04')]"
      ]
     },
     "execution_count": 5,
     "metadata": {},
     "output_type": "execute_result"
    }
   ],
   "source": [
    "#To find only Verb Sysnets\n",
    "wn.synsets('book', pos=wn.VERB)"
   ]
  },
  {
   "cell_type": "markdown",
   "id": "b91a7a59-6d95-4b52-809d-0e594e8eabc7",
   "metadata": {},
   "source": [
    "Finding Similarity Using WordNet:\n",
    "\n",
    "WordNet can also be used to find similarities between two words, of course, similarity here means semantic similarity. WordNet provides us with a function that helps compute similarity. A higher number in the result implies greater similarity.\n",
    "\n",
    "To calculate the similarity between two words, we must first represent the words as synsets, and then make use of the wup_similarity() function."
   ]
  },
  {
   "cell_type": "code",
   "execution_count": 6,
   "id": "92dad65d-2598-4b02-9cb3-0f5fc953d6f8",
   "metadata": {},
   "outputs": [
    {
     "name": "stdout",
     "output_type": "stream",
     "text": [
      "0.26666666666666666\n"
     ]
    }
   ],
   "source": [
    "#Finding Similarity Using WordNet\n",
    "from nltk.corpus import wordnet\n",
    "\n",
    "syn_1 = wordnet.synsets('hello')[0]\n",
    "syn_2 = wordnet.synsets('selling')[0]\n",
    "\n",
    "print(syn_1.wup_similarity(syn_2))"
   ]
  }
 ],
 "metadata": {
  "kernelspec": {
   "display_name": "Python 3 (ipykernel)",
   "language": "python",
   "name": "python3"
  },
  "language_info": {
   "codemirror_mode": {
    "name": "ipython",
    "version": 3
   },
   "file_extension": ".py",
   "mimetype": "text/x-python",
   "name": "python",
   "nbconvert_exporter": "python",
   "pygments_lexer": "ipython3",
   "version": "3.11.7"
  }
 },
 "nbformat": 4,
 "nbformat_minor": 5
}
